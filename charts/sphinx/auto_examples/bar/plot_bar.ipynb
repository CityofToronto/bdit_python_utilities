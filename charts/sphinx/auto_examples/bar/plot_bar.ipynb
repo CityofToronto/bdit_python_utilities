{
  "nbformat_minor": 0,
  "metadata": {
    "kernelspec": {
      "language": "python",
      "display_name": "Python 3",
      "name": "python3"
    },
    "language_info": {
      "mimetype": "text/x-python",
      "nbconvert_exporter": "python",
      "version": "3.5.2",
      "name": "python",
      "pygments_lexer": "ipython3",
      "codemirror_mode": {
        "version": 3,
        "name": "ipython"
      },
      "file_extension": ".py"
    }
  },
  "nbformat": 4,
  "cells": [
    {
      "outputs": [],
      "execution_count": null,
      "cell_type": "code",
      "metadata": {
        "collapsed": false
      },
      "source": [
        "%matplotlib inline"
      ]
    },
    {
      "source": [
        "\n# Bar Chart\n\nMakes an example of a bar chart.\n\n"
      ],
      "cell_type": "markdown",
      "metadata": {}
    },
    {
      "outputs": [],
      "execution_count": null,
      "cell_type": "code",
      "metadata": {
        "collapsed": false
      },
      "source": [
        "from sqlalchemy import create_engine\nimport matplotlib.pyplot as plt\nimport matplotlib as mpl\nimport pandas as pd \nimport configparser\nfrom psycopg2 import connect\nimport psycopg2.sql as pg\nimport pandas.io.sql as pandasql\nimport numpy as np \nimport datetime\nimport math\nimport rick\nimport geopandas as gpd\nimport os\nimport shapely\nfrom shapely.geometry import Point\nos.environ[\"PROJ_LIB\"]=r\"C:\\Users\\rliu4\\AppData\\Local\\Continuum\\anaconda3\\Library\\share\"\nimport importlib\nimport matplotlib.ticker as ticker\nimport matplotlib.font_manager as font_manager"
      ]
    },
    {
      "source": [
        "## Data Collection\n\nThis creates a test dataframe to use\n\n"
      ],
      "cell_type": "markdown",
      "metadata": {}
    },
    {
      "outputs": [],
      "execution_count": null,
      "cell_type": "code",
      "metadata": {
        "collapsed": false
      },
      "source": [
        "pass_data = {'cat': ['PTC','Taxi',  'Trip Making Population'],\n        'TTC Pass': [22,16,16],\n        }\n\ntransit_pass = pd.DataFrame(pass_data,columns= ['cat', 'TTC Pass'])\ntransit_pass  = transit_pass .reindex(index=transit_pass .index[::-1])\n\nfig, ax = rick.charts.bar_chart(transit_pass, xlab='Trips')"
      ]
    }
  ]
}