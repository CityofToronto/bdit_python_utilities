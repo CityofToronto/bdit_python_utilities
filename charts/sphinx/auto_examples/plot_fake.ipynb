{
  "cells": [
    {
      "source": [
        "%matplotlib inline"
      ],
      "cell_type": "code",
      "execution_count": null,
      "metadata": {
        "collapsed": false
      },
      "outputs": []
    },
    {
      "source": [
        "\n# Fake Chart\n\nMakes an example of a fake chart.\n\n"
      ],
      "cell_type": "markdown",
      "metadata": {}
    },
    {
      "source": [
        "from sqlalchemy import create_engine\nimport matplotlib.pyplot as plt\nimport matplotlib as mpl\nimport pandas as pd \nimport configparser\nfrom psycopg2 import connect\nimport psycopg2.sql as pg\nimport pandas.io.sql as pandasql\nimport numpy as np \nimport datetime\nimport math\nimport rick\nimport geopandas as gpd\nimport os\nimport shapely\nfrom shapely.geometry import Point\n# os.environ[\"PROJ_LIB\"]=r\"C:\\Users\\rliu4\\AppData\\Local\\Continuum\\anaconda3\\Library\\share\"\nimport importlib\nimport matplotlib.ticker as ticker\nimport matplotlib.font_manager as font_manager"
      ],
      "cell_type": "code",
      "execution_count": null,
      "metadata": {
        "collapsed": false
      },
      "outputs": []
    },
    {
      "source": [
        "## Define the global variables \n\n"
      ],
      "cell_type": "markdown",
      "metadata": {}
    },
    {
      "source": [
        "class font:\n    \"\"\"\n    Class defining the global font variables for all functions.\n    \n    \"\"\"\n    \n    leg_font = font_manager.FontProperties(family='Libre Franklin',size=9)\n    normal = 'Libre Franklin'\n    semibold = 'Libre Franklin SemiBold'\n\n\nclass colour:\n    \"\"\"\n    Class defining the global colour variables for all functions.\n    \n    \"\"\"\n    purple = '#660159'\n    grey = '#7f7e7e'\n    light_grey = '#777777'\n    cmap = 'YlOrRd'"
      ],
      "cell_type": "code",
      "execution_count": null,
      "metadata": {
        "collapsed": false
      },
      "outputs": []
    },
    {
      "source": [
        "## Define the chart\n\nThis creates chart fake_chart \n\n"
      ],
      "cell_type": "markdown",
      "metadata": {}
    },
    {
      "source": [
        "def fake_chart(data_in, xlab,**kwargs):\n        \"\"\"Creates a bar chart\n        \n        Parameters\n        -----------\n        data : dataframe\n            Data for the bar chart. The dataframe must have 2 columns, the first \n            representing the y ticks, and the second representing the data\n        xlab : str\n            Label for the x axis.\n        xmax : int, optional, default is the max s value\n            The max value of the y axis\n        xmin : int, optional, default is 0\n            The minimum value of the x axis\n        precision : int, optional, default is -1\n            Decimal places in the annotations\n            \n        xinc : int, optional\n            The increment of ticks on the x axis.\n        \n        Returns \n        --------\n        fig\n            Matplotlib fig object\n        ax \n            Matplotlib ax object\n            \n        \"\"\"\n        data = data_in.copy(deep=True)\n        \n        data.columns = ['name', 'values1']\n        \n        xmin = kwargs.get('xmin', 0)\n        xmax = kwargs.get('xmax', None)\n        precision = kwargs.get('precision', 0)\n        \n        xmax_flag = True\n        if xmax == None:\n            xmax = data['values1'].max()\n            xmax_flag = False\n\n        delta = (xmax - xmin)/4\n        i = 0\n        while True:\n            if delta < 10:\n                break\n            delta /= 10\n            i += 1\n        xinc = kwargs.get('xinc', int(round(delta+1)*pow(10,i)))\n\n        if xmax_flag == True:\n            upper = xmax\n        else:\n            upper = int(4*xinc+xmin)\n        \n        ind = np.arange(len(data))\n\n        fig, ax = plt.subplots()\n        fig.set_size_inches(6.1, len(data)*0.7)\n        ax.grid(color='k', linestyle='-', linewidth=0.25)\n        p2 = ax.barh(ind, data['values1'], 0.75, align='center', color = colour.purple)\n        ax.xaxis.set_major_formatter(mpl.ticker.StrMethodFormatter('{x:,.0f}'))\n\n        ax.xaxis.grid(True)\n        ax.yaxis.grid(False)\n        ax.set_yticks(ind)\n        ax.set_xlim(0,upper)\n        ax.set_yticklabels(data['name'])\n        ax.set_xlabel(xlab, horizontalalignment='left', \n                      x=0, labelpad=10, fontname = font.normal, \n                      fontsize=10, fontweight = 'bold')\n\n        ax.set_facecolor('xkcd:white')\n        j=0\n        \n        if precision < 1:\n            data['values1'] = data['values1'].astype(int)\n\n        j=0\n        for i in data['values1']:\n            if i < 0.1*upper:\n                ax.annotate(str(format(round(i,precision), ',')), \n                            xy=(i+0.015*upper, j-0.05), \n                            ha = 'left', color = 'k', fontname = font.normal, fontsize=10)\n            else:\n                ax.annotate(str(format(round(i,precision), ',')), \n                            xy=(i-0.015*upper, j-0.05), \n                            ha = 'right', color = 'w', fontname = font.normal, fontsize=10)\n            j=j+1\n\n        \n        plt.xticks(range(xmin,upper+int(0.1*xinc), xinc), fontname = font.normal, fontsize =10)\n        plt.yticks( fontname = font.normal, fontsize =10)\n        \n        return fig, ax"
      ],
      "cell_type": "code",
      "execution_count": null,
      "metadata": {
        "collapsed": false
      },
      "outputs": []
    },
    {
      "source": [
        "## Data Collection\n\nThis creates a test dataframe to use\n\n"
      ],
      "cell_type": "markdown",
      "metadata": {}
    },
    {
      "source": [
        "pass_data = {'cat': ['PTC','Taxi',  'Trip Making Population'],\n        'TTC Pass': [22,16,16],\n        }\n\ntransit_pass = pd.DataFrame(pass_data,columns= ['cat', 'TTC Pass'])\ntransit_pass  = transit_pass .reindex(index=transit_pass .index[::-1])\n\nfig, ax = fake_chart(transit_pass, xlab='Trips')"
      ],
      "cell_type": "code",
      "execution_count": null,
      "metadata": {
        "collapsed": false
      },
      "outputs": []
    }
  ],
  "nbformat_minor": 0,
  "metadata": {
    "kernelspec": {
      "display_name": "Python 3",
      "name": "python3",
      "language": "python"
    },
    "language_info": {
      "version": "3.5.2",
      "pygments_lexer": "ipython3",
      "file_extension": ".py",
      "name": "python",
      "codemirror_mode": {
        "name": "ipython",
        "version": 3
      },
      "mimetype": "text/x-python",
      "nbconvert_exporter": "python"
    }
  },
  "nbformat": 4
}