{
  "nbformat_minor": 0,
  "nbformat": 4,
  "metadata": {
    "language_info": {
      "file_extension": ".py",
      "nbconvert_exporter": "python",
      "name": "python",
      "version": "3.5.2",
      "mimetype": "text/x-python",
      "codemirror_mode": {
        "version": 3,
        "name": "ipython"
      },
      "pygments_lexer": "ipython3"
    },
    "kernelspec": {
      "name": "python3",
      "language": "python",
      "display_name": "Python 3"
    }
  },
  "cells": [
    {
      "execution_count": null,
      "outputs": [],
      "metadata": {
        "collapsed": false
      },
      "cell_type": "code",
      "source": [
        "%matplotlib inline"
      ]
    },
    {
      "metadata": {},
      "cell_type": "markdown",
      "source": [
        "\n# Line Chart\n\nMakes an example of a line chart, with an additional baseline plot and custom formatted x axis.\n\n"
      ]
    },
    {
      "execution_count": null,
      "outputs": [],
      "metadata": {
        "collapsed": false
      },
      "cell_type": "code",
      "source": [
        "from sqlalchemy import create_engine\nimport matplotlib.pyplot as plt\nimport matplotlib as mpl\nimport pandas as pd \nimport configparser\nfrom psycopg2 import connect\nimport psycopg2.sql as pg\nimport pandas.io.sql as pandasql\nimport numpy as np \nimport datetime\nimport math\nimport rick\nimport geopandas as gpd\nimport os\nimport shapely\nfrom shapely.geometry import Point\nos.environ[\"PROJ_LIB\"]=r\"C:\\Users\\rliu4\\AppData\\Local\\Continuum\\anaconda3\\Library\\share\"\nimport importlib\nimport matplotlib.ticker as ticker\nimport matplotlib.font_manager as font_manager\n\n\nCONFIG = configparser.ConfigParser()\nCONFIG.read(r'C:\\Users\\rliu4\\Documents\\Python\\config.cfg')\ndbset = CONFIG['DBSETTINGS']\ncon = connect(**dbset)"
      ]
    },
    {
      "metadata": {},
      "cell_type": "markdown",
      "source": [
        "## Data Collection\n\nThis Section grabs and formats the data.\n\n"
      ]
    },
    {
      "execution_count": null,
      "outputs": [],
      "metadata": {
        "collapsed": false
      },
      "cell_type": "code",
      "source": [
        "query='''\nWITH daily_ave AS (\n\nSELECT * FROM ptc.daily_trips\n), total AS  (\nSELECT  extract(month from pickup_datetime) as mon,\nextract(year from pickup_datetime) as yr,\n\nCASE WHEN extract(year from pickup_datetime) = 2018 AND extract(month from pickup_datetime) IN (3) THEN 108321\nWHEN extract(year from pickup_datetime) = 2018 AND extract(month from pickup_datetime) IN (11) THEN 161733 ELSE\navg(count)::integer END as count FROM daily_ave\nGROUP BY extract(month from pickup_datetime), extract(year from pickup_datetime)\nORDER BY extract(year from pickup_datetime), extract(month from pickup_datetime)\n)\n\n\nSELECT \nCASE WHEN mon = 1 THEN to_char(to_timestamp (mon::text, 'MM'), 'Mon')||' '||yr::text \nWHEN mon = 9 AND yr = 2016 THEN to_char(to_timestamp (mon::text, 'MM'), 'Mon')||' '||yr::text \nELSE to_char(to_timestamp (mon::text, 'MM'), 'Mon')\nEND AS period, \ncount FROM total\n'''\ntotal=pandasql.read_sql(query, con)"
      ]
    },
    {
      "metadata": {},
      "cell_type": "markdown",
      "source": [
        "Gets the baseline data (to be graphed in grey)\n\n"
      ]
    },
    {
      "execution_count": null,
      "outputs": [],
      "metadata": {
        "collapsed": false
      },
      "cell_type": "code",
      "source": [
        "query='''\nWITH daily_ave AS (\n\nSELECT * FROM ptc.daily_trips\n), total AS  (\nSELECT  extract(month from pickup_datetime) as mon,\nextract(year from pickup_datetime) as yr,\n\nCASE WHEN extract(year from pickup_datetime) = 2018 AND extract(month from pickup_datetime) IN (3) THEN 108321\nWHEN extract(year from pickup_datetime) = 2018 AND extract(month from pickup_datetime) IN (11) THEN 161733 ELSE\navg(count)::integer END as count FROM daily_ave\nGROUP BY extract(month from pickup_datetime), extract(year from pickup_datetime)\nORDER BY extract(year from pickup_datetime), extract(month from pickup_datetime)\n)\n\n\nSELECT \nCASE WHEN mon = 1 THEN to_char(to_timestamp (mon::text, 'MM'), 'Mon')||' '||yr::text \nWHEN mon = 9 AND yr = 2016 THEN to_char(to_timestamp (mon::text, 'MM'), 'Mon')||' '||yr::text \nELSE to_char(to_timestamp (mon::text, 'MM'), 'Mon')\nEND AS period, \ncount/2 as count FROM total\n'''\ntotal2=pandasql.read_sql(query, con)\n\nfig, ax, props = rick.charts.line_chart(total['count'], 'Trips', 'Time', baseline = total2['count'])"
      ]
    },
    {
      "metadata": {},
      "cell_type": "markdown",
      "source": [
        "Adds annotations\n\n"
      ]
    },
    {
      "execution_count": null,
      "outputs": [],
      "metadata": {
        "collapsed": false
      },
      "cell_type": "code",
      "source": [
        "fig.text(0.94, 0.96, '176,000', transform=ax.transAxes, wrap = True, fontsize=9, fontname = 'Libre Franklin',\n         verticalalignment='top', ha = 'center', bbox=props, color = '#660159')"
      ]
    },
    {
      "metadata": {},
      "cell_type": "markdown",
      "source": [
        "Adds custom x axis\n\n"
      ]
    },
    {
      "execution_count": null,
      "outputs": [],
      "metadata": {
        "collapsed": false
      },
      "cell_type": "code",
      "source": [
        "month_lst2 = ['Sept\\n2016',  'Jan\\n2017',  'May',  'Sept',\n               'Jan\\n2018', 'May',  'Sept', \n              'Jan\\n2019','May',]\nplt.xticks(range(0,35,4), month_lst2, fontsize=9, fontname = 'Libre Franklin')"
      ]
    }
  ]
}