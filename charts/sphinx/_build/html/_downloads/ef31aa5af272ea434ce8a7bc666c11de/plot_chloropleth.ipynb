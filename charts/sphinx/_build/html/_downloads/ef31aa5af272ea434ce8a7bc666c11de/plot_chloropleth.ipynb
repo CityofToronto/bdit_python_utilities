{
  "nbformat_minor": 0,
  "nbformat": 4,
  "metadata": {
    "language_info": {
      "file_extension": ".py",
      "nbconvert_exporter": "python",
      "name": "python",
      "version": "3.5.2",
      "mimetype": "text/x-python",
      "codemirror_mode": {
        "version": 3,
        "name": "ipython"
      },
      "pygments_lexer": "ipython3"
    },
    "kernelspec": {
      "name": "python3",
      "language": "python",
      "display_name": "Python 3"
    }
  },
  "cells": [
    {
      "execution_count": null,
      "outputs": [],
      "metadata": {
        "collapsed": false
      },
      "cell_type": "code",
      "source": [
        "%matplotlib inline"
      ]
    },
    {
      "metadata": {},
      "cell_type": "markdown",
      "source": [
        "\n# Chloropleth Map\n\nMakes an example of a chloropleth map.\n\n"
      ]
    },
    {
      "execution_count": null,
      "outputs": [],
      "metadata": {
        "collapsed": false
      },
      "cell_type": "code",
      "source": [
        "from sqlalchemy import create_engine\nimport matplotlib.pyplot as plt\nimport matplotlib as mpl\nimport pandas as pd \nimport configparser\nfrom psycopg2 import connect\nimport psycopg2.sql as pg\nimport pandas.io.sql as pandasql\nimport numpy as np \nimport datetime\nimport math\nimport rick\nimport geopandas as gpd\nimport os\nimport shapely\nfrom shapely.geometry import Point\nos.environ[\"PROJ_LIB\"]=r\"C:\\Users\\rliu4\\AppData\\Local\\Continuum\\anaconda3\\Library\\share\"\nimport importlib\nimport matplotlib.ticker as ticker\nimport matplotlib.font_manager as font_manager\nCONFIG = configparser.ConfigParser()\nCONFIG.read(r'C:\\Users\\rliu4\\Documents\\Python\\config.cfg')\ndbset = CONFIG['DBSETTINGS']\ncon = connect(**dbset)"
      ]
    },
    {
      "metadata": {},
      "cell_type": "markdown",
      "source": [
        "## Data Collection\n\nThis Section grabs and formats the data.\n\n"
      ]
    },
    {
      "execution_count": null,
      "outputs": [],
      "metadata": {
        "collapsed": false
      },
      "cell_type": "code",
      "source": [
        "query = '''\n\nWITH sum AS (\nSELECT extract(month from pickup_datetime) as mon, extract(year from pickup_datetime) as yr, extract(week from pickup_datetime) as wk, pickup_neighbourhood, \nsum(count) as count  FROM ptc.trip_data_agg_neighbourhood\nGROUP BY   pickup_datetime, pickup_neighbourhood\n\n), ward1 AS  (\n\nSELECT  avg(count) as count, pickup_neighbourhood from sum\nWHERE (yr=2018 AND mon IN (9))\nGROUP BY pickup_neighbourhood\nORDER BY count\n), ward2 AS  (\n\nSELECT avg(count) as count, pickup_neighbourhood from sum\nWHERE (yr=2016 AND mon IN (10))\nGROUP BY pickup_neighbourhood\nORDER BY count\n)\n\nSELECT pickup_neighbourhood,  geom, (b.count - a.count)/(a.count)*100 as growth FROM ward2 a \nLEFT JOIN ward1 b USING ( pickup_neighbourhood)\nLEFT JOIN gis.neighbourhood ON area_s_cd::integer=pickup_neighbourhood\n\n'''"
      ]
    },
    {
      "metadata": {},
      "cell_type": "markdown",
      "source": [
        "Rotates data 17 degrees to orient Toronto perpendicularly\n\n"
      ]
    },
    {
      "execution_count": null,
      "outputs": [],
      "metadata": {
        "collapsed": false
      },
      "cell_type": "code",
      "source": [
        "data = gpd.GeoDataFrame.from_postgis(query, con, geom_col='geom')\ndata = data.to_crs({'init' :'epsg:3857'})\n\nfor index, row in data.iterrows():\n    rotated = shapely.affinity.rotate(row['geom'], angle=-17, origin = Point(0, 0))\n    data.at[index, 'geom'] = rotated"
      ]
    },
    {
      "metadata": {},
      "cell_type": "markdown",
      "source": [
        "The function only needs these columns, in this order\n\n"
      ]
    },
    {
      "execution_count": null,
      "outputs": [],
      "metadata": {
        "collapsed": false
      },
      "cell_type": "code",
      "source": [
        "data=data[['geom', 'growth']]"
      ]
    },
    {
      "metadata": {},
      "cell_type": "markdown",
      "source": [
        "Calls the Function\n\n\n\n\n"
      ]
    },
    {
      "execution_count": null,
      "outputs": [],
      "metadata": {
        "collapsed": false
      },
      "cell_type": "code",
      "source": [
        "fig, ax = rick.charts.chloro_map(con, data, subway = True, lower = 0, upper = 300, title = 'Growth in Trips', \n                                       island = False,  unit = '%', nbins = 3)"
      ]
    }
  ]
}