{
  "metadata": {
    "kernelspec": {
      "display_name": "Python 3",
      "name": "python3",
      "language": "python"
    },
    "language_info": {
      "mimetype": "text/x-python",
      "codemirror_mode": {
        "version": 3,
        "name": "ipython"
      },
      "pygments_lexer": "ipython3",
      "name": "python",
      "version": "3.5.2",
      "file_extension": ".py",
      "nbconvert_exporter": "python"
    }
  },
  "nbformat": 4,
  "cells": [
    {
      "source": [
        "%matplotlib inline"
      ],
      "metadata": {
        "collapsed": false
      },
      "execution_count": null,
      "cell_type": "code",
      "outputs": []
    },
    {
      "source": [
        "\n# RICK Time-of-Week Line Chart\n\nExample time-of-week line chart.\n\n"
      ],
      "metadata": {},
      "cell_type": "markdown"
    },
    {
      "source": [
        "from sqlalchemy import create_engine\nimport matplotlib.pyplot as plt\nimport matplotlib as mpl\nimport pandas as pd \nimport configparser\nfrom psycopg2 import connect\nimport psycopg2.sql as pg\nimport pandas.io.sql as pandasql\nimport numpy as np \nimport datetime\nimport math\nimport rick\nimport geopandas as gpd\nimport os\nimport shapely\nfrom shapely.geometry import Point\nos.environ[\"PROJ_LIB\"]=r\"C:\\Users\\rliu4\\AppData\\Local\\Continuum\\anaconda3\\Library\\share\"\nimport importlib\nimport matplotlib.ticker as ticker\nimport matplotlib.font_manager as font_manager\n\n\nCONFIG = configparser.ConfigParser()\n# CONFIG.read(r'C:\\Users\\rliu4\\Documents\\Python\\config.cfg')\nCONFIG.read(r'/home/cnangini/db.cfg')\ndbset = CONFIG['DBSETTINGS']\ncon = connect(**dbset)"
      ],
      "metadata": {
        "collapsed": false
      },
      "execution_count": null,
      "cell_type": "code",
      "outputs": []
    },
    {
      "source": [
        "## Data Collection\n\nThis Section grabs and formats the data.\n\n"
      ],
      "metadata": {},
      "cell_type": "markdown"
    },
    {
      "source": [
        "query = '''\n\nWITH sum AS (\n\nSELECT pickup_datetime, hr, sum(count) as count, extract(month from pickup_datetime) as mon, extract(year from pickup_datetime) as yr,\nextract(dow from pickup_datetime) as dow FROM ptc.trip_data_agg_ward_25\n\n\nWHERE pickup_datetime > '2018-08-31'\nGROUP BY pickup_datetime, hr\n\n)\n, collect AS (\nSELECT  avg(count) as count, hr, dow from sum\ngroup by hr, dow)\n\nSELECT period_name, period_uid, count, hr, CASE WHEN dow = 0 THEN 7 ELSE dow END AS dow, \nCASE WHEN swatch IS NULL THEN '#999999' ELSE swatch END AS swatch\nFROM collect\nLEFT JOIN ptc.period_lookup_simple ON dow=period_dow AND hr=period_hr\nLEFT JOIN ptc.periods_simple USING (period_uid)\nORDER BY dow, hr\n\n'''\ncount_18 = pandasql.read_sql(query,con)\n\nfig, ax, prop = rick.charts.tow_chart(data = count_18['count'], ylab='Trips', ymax = 14000, yinc= 3500)"
      ],
      "metadata": {
        "collapsed": false
      },
      "execution_count": null,
      "cell_type": "code",
      "outputs": []
    }
  ],
  "nbformat_minor": 0
}