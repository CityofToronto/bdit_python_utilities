{
  "nbformat_minor": 0,
  "nbformat": 4,
  "metadata": {
    "language_info": {
      "file_extension": ".py",
      "nbconvert_exporter": "python",
      "name": "python",
      "version": "3.5.2",
      "mimetype": "text/x-python",
      "codemirror_mode": {
        "version": 3,
        "name": "ipython"
      },
      "pygments_lexer": "ipython3"
    },
    "kernelspec": {
      "name": "python3",
      "language": "python",
      "display_name": "Python 3"
    }
  },
  "cells": [
    {
      "execution_count": null,
      "outputs": [],
      "metadata": {
        "collapsed": false
      },
      "cell_type": "code",
      "source": [
        "%matplotlib inline"
      ]
    },
    {
      "metadata": {},
      "cell_type": "markdown",
      "source": [
        "\n# Time of Week Chart\n\nMakes an example of a time of week chart.\n\n"
      ]
    },
    {
      "execution_count": null,
      "outputs": [],
      "metadata": {
        "collapsed": false
      },
      "cell_type": "code",
      "source": [
        "from sqlalchemy import create_engine\nimport matplotlib.pyplot as plt\nimport matplotlib as mpl\nimport pandas as pd \nimport configparser\nfrom psycopg2 import connect\nimport psycopg2.sql as pg\nimport pandas.io.sql as pandasql\nimport numpy as np \nimport datetime\nimport math\nimport rick\nimport geopandas as gpd\nimport os\nimport shapely\nfrom shapely.geometry import Point\nos.environ[\"PROJ_LIB\"]=r\"C:\\Users\\rliu4\\AppData\\Local\\Continuum\\anaconda3\\Library\\share\"\nimport importlib\nimport matplotlib.ticker as ticker\nimport matplotlib.font_manager as font_manager\n\n\nCONFIG = configparser.ConfigParser()\nCONFIG.read(r'C:\\Users\\rliu4\\Documents\\Python\\config.cfg')\ndbset = CONFIG['DBSETTINGS']\ncon = connect(**dbset)"
      ]
    },
    {
      "metadata": {},
      "cell_type": "markdown",
      "source": [
        "## Data Collection\n\nThis Section grabs and formats the data.\n\n"
      ]
    },
    {
      "execution_count": null,
      "outputs": [],
      "metadata": {
        "collapsed": false
      },
      "cell_type": "code",
      "source": [
        "query = '''\n\nWITH sum AS (\n\nSELECT pickup_datetime, hr, sum(count) as count, extract(month from pickup_datetime) as mon, extract(year from pickup_datetime) as yr,\nextract(dow from pickup_datetime) as dow FROM ptc.trip_data_agg_ward_25\n\n\nWHERE pickup_datetime > '2018-08-31'\nGROUP BY pickup_datetime, hr\n\n)\n, collect AS (\nSELECT  avg(count) as count, hr, dow from sum\ngroup by hr, dow)\n\nSELECT period_name, period_uid, count, hr, CASE WHEN dow = 0 THEN 7 ELSE dow END AS dow, \nCASE WHEN swatch IS NULL THEN '#999999' ELSE swatch END AS swatch\nFROM collect\nLEFT JOIN ptc.period_lookup_simple ON dow=period_dow AND hr=period_hr\nLEFT JOIN ptc.periods_simple USING (period_uid)\nORDER BY dow, hr\n\n'''\ncount_18 = pandasql.read_sql(query,con)\n\nfig, ax, prop = rick.charts.tow_chart(data = count_18['count'], ylab='Trips', ymax = 14000, yinc= 3500)"
      ]
    }
  ]
}