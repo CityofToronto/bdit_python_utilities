{
  "cells": [
    {
      "cell_type": "code",
      "execution_count": null,
      "metadata": {
        "collapsed": false
      },
      "outputs": [],
      "source": [
        "%matplotlib inline"
      ]
    },
    {
      "cell_type": "markdown",
      "metadata": {},
      "source": [
        "\nTime of Week Chart\n==================\n\nMakes an example of a time of week chart.\n\n"
      ]
    },
    {
      "cell_type": "code",
      "execution_count": null,
      "metadata": {
        "collapsed": false
      },
      "outputs": [],
      "source": [
        "from sqlalchemy import create_engine\nimport matplotlib.pyplot as plt\nimport matplotlib as mpl\nimport pandas as pd \nimport configparser\nfrom psycopg2 import connect\nimport psycopg2.sql as pg\nimport pandas.io.sql as pandasql\nimport numpy as np \nimport datetime\nimport math\nimport rick\nimport geopandas as gpd\nimport os\nimport shapely\nfrom shapely.geometry import Point\nos.environ[\"PROJ_LIB\"]=r\"C:\\Users\\rliu4\\AppData\\Local\\Continuum\\anaconda3\\Library\\share\"\nimport importlib\nimport matplotlib.ticker as ticker\nimport matplotlib.font_manager as font_manager\n\n\nCONFIG = configparser.ConfigParser()\nCONFIG.read(r'C:\\Users\\rliu4\\Documents\\Python\\config.cfg')\ndbset = CONFIG['DBSETTINGS']\ncon = connect(**dbset)\n\nquery = '''\n\nWITH sum AS (\n\nSELECT pickup_datetime, hr, sum(count) as count, extract(month from pickup_datetime) as mon, extract(year from pickup_datetime) as yr,\nextract(dow from pickup_datetime) as dow FROM ptc.trip_data_agg_ward_25\n\n\nWHERE pickup_datetime > '2018-08-31'\nGROUP BY pickup_datetime, hr\n\n)\n, collect AS (\nSELECT  avg(count) as count, hr, dow from sum\ngroup by hr, dow)\n\nSELECT period_name, period_uid, count, hr, CASE WHEN dow = 0 THEN 7 ELSE dow END AS dow, \nCASE WHEN swatch IS NULL THEN '#999999' ELSE swatch END AS swatch\nFROM collect\nLEFT JOIN ptc.period_lookup_simple ON dow=period_dow AND hr=period_hr\nLEFT JOIN ptc.periods_simple USING (period_uid)\nORDER BY dow, hr\n\n'''\ncount_18 = pandasql.read_sql(query,con)\n\nfig, ax, prop = rick.charts.tow_chart(data = count_18['count'], ylab='Trips', ymax = 14000, yinc= 3500)"
      ]
    }
  ],
  "metadata": {
    "kernelspec": {
      "display_name": "Python 3",
      "language": "python",
      "name": "python3"
    },
    "language_info": {
      "codemirror_mode": {
        "name": "ipython",
        "version": 3
      },
      "file_extension": ".py",
      "mimetype": "text/x-python",
      "name": "python",
      "nbconvert_exporter": "python",
      "pygments_lexer": "ipython3",
      "version": "3.6.4"
    }
  },
  "nbformat": 4,
  "nbformat_minor": 0
}