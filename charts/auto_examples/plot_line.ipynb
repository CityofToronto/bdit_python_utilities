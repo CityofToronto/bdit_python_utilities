{
  "cells": [
    {
      "cell_type": "code",
      "execution_count": null,
      "metadata": {
        "collapsed": false
      },
      "outputs": [],
      "source": [
        "%matplotlib inline"
      ]
    },
    {
      "cell_type": "markdown",
      "metadata": {},
      "source": [
        "\nLine Chart\n==================\n\nMakes an example of a line chart, with an additional baseline plot and custom formatted x axis.\n\n"
      ]
    },
    {
      "cell_type": "code",
      "execution_count": null,
      "metadata": {
        "collapsed": false
      },
      "outputs": [],
      "source": [
        "from sqlalchemy import create_engine\nimport matplotlib.pyplot as plt\nimport matplotlib as mpl\nimport pandas as pd \nimport configparser\nfrom psycopg2 import connect\nimport psycopg2.sql as pg\nimport pandas.io.sql as pandasql\nimport numpy as np \nimport datetime\nimport math\nimport rick\nimport geopandas as gpd\nimport os\nimport shapely\nfrom shapely.geometry import Point\nos.environ[\"PROJ_LIB\"]=r\"C:\\Users\\rliu4\\AppData\\Local\\Continuum\\anaconda3\\Library\\share\"\nimport importlib\nimport matplotlib.ticker as ticker\nimport matplotlib.font_manager as font_manager\n\n\nCONFIG = configparser.ConfigParser()\nCONFIG.read(r'C:\\Users\\rliu4\\Documents\\Python\\config.cfg')\ndbset = CONFIG['DBSETTINGS']\ncon = connect(**dbset)\n\nquery='''\nWITH daily_ave AS (\n\nSELECT * FROM ptc.daily_trips\n), total AS  (\nSELECT  extract(month from pickup_datetime) as mon,\nextract(year from pickup_datetime) as yr,\n\nCASE WHEN extract(year from pickup_datetime) = 2018 AND extract(month from pickup_datetime) IN (3) THEN 108321\nWHEN extract(year from pickup_datetime) = 2018 AND extract(month from pickup_datetime) IN (11) THEN 161733 ELSE\navg(count)::integer END as count FROM daily_ave\nGROUP BY extract(month from pickup_datetime), extract(year from pickup_datetime)\nORDER BY extract(year from pickup_datetime), extract(month from pickup_datetime)\n)\n\n\nSELECT \nCASE WHEN mon = 1 THEN to_char(to_timestamp (mon::text, 'MM'), 'Mon')||' '||yr::text \nWHEN mon = 9 AND yr = 2016 THEN to_char(to_timestamp (mon::text, 'MM'), 'Mon')||' '||yr::text \nELSE to_char(to_timestamp (mon::text, 'MM'), 'Mon')\nEND AS period, \ncount FROM total\n'''\ntotal=pandasql.read_sql(query, con)\n\nquery='''\nWITH daily_ave AS (\n\nSELECT * FROM ptc.daily_trips\n), total AS  (\nSELECT  extract(month from pickup_datetime) as mon,\nextract(year from pickup_datetime) as yr,\n\nCASE WHEN extract(year from pickup_datetime) = 2018 AND extract(month from pickup_datetime) IN (3) THEN 108321\nWHEN extract(year from pickup_datetime) = 2018 AND extract(month from pickup_datetime) IN (11) THEN 161733 ELSE\navg(count)::integer END as count FROM daily_ave\nGROUP BY extract(month from pickup_datetime), extract(year from pickup_datetime)\nORDER BY extract(year from pickup_datetime), extract(month from pickup_datetime)\n)\n\n\nSELECT \nCASE WHEN mon = 1 THEN to_char(to_timestamp (mon::text, 'MM'), 'Mon')||' '||yr::text \nWHEN mon = 9 AND yr = 2016 THEN to_char(to_timestamp (mon::text, 'MM'), 'Mon')||' '||yr::text \nELSE to_char(to_timestamp (mon::text, 'MM'), 'Mon')\nEND AS period, \ncount/2 as count FROM total\n'''\ntotal2=pandasql.read_sql(query, con)\n\nfig, ax, props = rick.charts.line_chart(total['count'], 'Trips', 'Time', baseline = total2['count'])\n\n\nfig.text(0.94, 0.96, '176,000', transform=ax.transAxes, wrap = True, fontsize=9, fontname = 'Libre Franklin',\n         verticalalignment='top', ha = 'center', bbox=props, color = '#660159')\n\nmonth_lst2 = ['Sept\\n2016',  'Jan\\n2017',  'May',  'Sept',\n               'Jan\\n2018', 'May',  'Sept', \n              'Jan\\n2019','May',]\nplt.xticks(range(0,35,4), month_lst2, fontsize=9, fontname = 'Libre Franklin')"
      ]
    }
  ],
  "metadata": {
    "kernelspec": {
      "display_name": "Python 3",
      "language": "python",
      "name": "python3"
    },
    "language_info": {
      "codemirror_mode": {
        "name": "ipython",
        "version": 3
      },
      "file_extension": ".py",
      "mimetype": "text/x-python",
      "name": "python",
      "nbconvert_exporter": "python",
      "pygments_lexer": "ipython3",
      "version": "3.6.4"
    }
  },
  "nbformat": 4,
  "nbformat_minor": 0
}