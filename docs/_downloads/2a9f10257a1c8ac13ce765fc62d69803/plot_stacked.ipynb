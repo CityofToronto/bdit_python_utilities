{
  "cells": [
    {
      "cell_type": "code",
      "execution_count": null,
      "metadata": {
        "collapsed": false
      },
      "outputs": [],
      "source": [
        "%matplotlib inline"
      ]
    },
    {
      "cell_type": "markdown",
      "metadata": {},
      "source": [
        "\nStacked Bar Chart\n==================\n\nMakes an example of a stacked bar chart.\n\n"
      ]
    },
    {
      "cell_type": "code",
      "execution_count": null,
      "metadata": {
        "collapsed": false
      },
      "outputs": [],
      "source": [
        "from sqlalchemy import create_engine\nimport matplotlib.pyplot as plt\nimport matplotlib as mpl\nimport pandas as pd \nimport configparser\nfrom psycopg2 import connect\nimport psycopg2.sql as pg\nimport pandas.io.sql as pandasql\nimport numpy as np \nimport datetime\nimport math\nimport rick\nimport geopandas as gpd\nimport os\nimport shapely\nfrom shapely.geometry import Point\nos.environ[\"PROJ_LIB\"]=r\"C:\\Users\\rliu4\\AppData\\Local\\Continuum\\anaconda3\\Library\\share\"\nimport importlib\nimport matplotlib.ticker as ticker\nimport matplotlib.font_manager as font_manager\n\n\nCONFIG = configparser.ConfigParser()\nCONFIG.read(r'C:\\Users\\rliu4\\Documents\\Python\\config.cfg')\ndbset = CONFIG['DBSETTINGS']\ncon = connect(**dbset)"
      ]
    },
    {
      "cell_type": "markdown",
      "metadata": {},
      "source": [
        "Data Collection\n----------------\n\nThis Section grabs and formats the data.\n\n"
      ]
    },
    {
      "cell_type": "code",
      "execution_count": null,
      "metadata": {
        "collapsed": false
      },
      "outputs": [],
      "source": [
        "query = ''' \n\nWITH sum AS (\n\nSELECT pickup_datetime, sum(count) as count, extract(month from pickup_datetime) as mon, extract(year from pickup_datetime) as yr, area_name FROM ptc.trip_data_agg_ward_25\nLEFT JOIN gis.ward_community_lookup ON pickup_ward2018 = area_short\n\nWHERE pickup_datetime > '2016-09-30'\nGROUP BY pickup_datetime, area_name\n), collect AS (\nSELECT area_name, avg(count) as count, mon, yr from sum\ngroup by area_name,  mon, yr)\n\n,tot1 AS (\n\nSELECT area_name, avg(count) as count FROM collect\nWHERE (yr =2016 AND mon IN (10))\nGROUP BY area_name\n), tot2 AS (\n\nSELECT area_name, avg(count) as count FROM collect\nWHERE (yr =2018 AND mon IN (9)) \nGROUP BY area_name\n)\nSELECT SPLIT_PART(area_name, 'Community', 1) as area_name,\nb.count as count1, a.count as count2 FROM tot1 b\nLEFT JOIN tot2 a USING (area_name)\nORDER BY count1 ASC\n'''\n\ndistrict_cond = pandasql.read_sql(query, con)\n\nfig, ax = rick.charts.stacked_chart(district_cond, xlab = 'Trips', lab1 = '2016', lab2 = '2018', percent = True)"
      ]
    }
  ],
  "metadata": {
    "kernelspec": {
      "display_name": "Python 3",
      "language": "python",
      "name": "python3"
    },
    "language_info": {
      "codemirror_mode": {
        "name": "ipython",
        "version": 3
      },
      "file_extension": ".py",
      "mimetype": "text/x-python",
      "name": "python",
      "nbconvert_exporter": "python",
      "pygments_lexer": "ipython3",
      "version": "3.6.4"
    }
  },
  "nbformat": 4,
  "nbformat_minor": 0
}